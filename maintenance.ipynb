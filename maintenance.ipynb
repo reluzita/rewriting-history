{
 "cells": [
  {
   "cell_type": "code",
   "execution_count": null,
   "metadata": {},
   "outputs": [],
   "source": [
    "import os\n",
    "import mlflow"
   ]
  },
  {
   "cell_type": "code",
   "execution_count": null,
   "metadata": {},
   "outputs": [],
   "source": [
    "experiments = ['ads_local', 'bank_housing', 'biodeg_V25', 'churn_voice_mail_plan', 'credit_A1', \n",
    "            'monks1_attr3', 'phishing_having_IP_Address', 'sick_referral_source_other', 'vote_immigration']\n",
    "\n",
    "fair_experiments = ['adult_sex_Male', 'adult_race_White', 'german_sex_Male', 'compas_sex', \n",
    "                    'compas_race_Caucasian', 'ricci_Race_W', 'diabetes_race_Caucasian', 'titanic_sex']\n",
    "\n",
    "algorithms = ['PL', 'STC', 'CC', 'HLNC', 'OBNC', 'BE', \n",
    "              'OBNC-remove-sensitive', 'OBNC-optimize-demographic-parity', 'OBNC-fair']\n",
    "\n",
    "noise_types = ['flip', 'random', 'bias', 'balanced_bias']"
   ]
  },
  {
   "attachments": {},
   "cell_type": "markdown",
   "metadata": {},
   "source": [
    "# Saving standard ML datasets results"
   ]
  },
  {
   "cell_type": "code",
   "execution_count": null,
   "metadata": {},
   "outputs": [],
   "source": [
    "for noise_type in noise_types:\n",
    "    if not os.path.exists(f'noiseinjection_results/{noise_type}'):\n",
    "        os.makedirs(f'noiseinjection_results/{noise_type}')\n",
    "\n",
    "for exp in experiments:\n",
    "    for alg in algorithms:\n",
    "        name = f'{exp}_{alg}'\n",
    "        run = mlflow.search_runs(experiment_names=[name], order_by=['start_time DESC'])\n",
    "        for noise_type in noise_types:\n",
    "            if alg == 'OBNC-optimize-demographic-parity' or alg == 'OBNC-fair':\n",
    "                for prob in ['0', '0.5']:\n",
    "                    df = run.loc[(run['params.noise_type'] == noise_type) & (run['params.prob'] == prob)]\n",
    "                    df.to_csv(f'noiseinjection_results/{noise_type}/{name}-{prob}.csv', index=False)\n",
    "            else:\n",
    "                df = run.loc[run['params.noise_type'] == noise_type]\n",
    "                df.to_csv(f'noiseinjection_results/{noise_type}/{name}.csv', index=False)\n"
   ]
  },
  {
   "attachments": {},
   "cell_type": "markdown",
   "metadata": {},
   "source": [
    "# Saving fairness benchmark datasets"
   ]
  },
  {
   "cell_type": "code",
   "execution_count": null,
   "metadata": {},
   "outputs": [],
   "source": [
    "if not os.path.exists(f'fairness_benchmark_results'):\n",
    "    os.mkdir(f'fairness_benchmark_results')\n",
    "\n",
    "for exp in fair_experiments:\n",
    "    for alg in algorithms:\n",
    "        name = f'{exp}_{alg}'\n",
    "        run = mlflow.search_runs(experiment_names=[name], order_by=['start_time DESC'])\n",
    "        if alg == 'OBNC-optimize-demographic-parity' or alg == 'OBNC-fair':\n",
    "            for prob in ['0', '0.5']:\n",
    "                df = run.loc[run['params.prob'] == prob]\n",
    "                df.to_csv(f'fairness_benchmark_results/{name}-{prob}.csv', index=False)\n",
    "        else:\n",
    "            run.to_csv(f'fairness_benchmark_results/{name}.csv', index=False)"
   ]
  }
 ],
 "metadata": {
  "kernelspec": {
   "display_name": "base",
   "language": "python",
   "name": "python3"
  },
  "language_info": {
   "name": "python",
   "version": "3.8.12"
  },
  "orig_nbformat": 4
 },
 "nbformat": 4,
 "nbformat_minor": 2
}
